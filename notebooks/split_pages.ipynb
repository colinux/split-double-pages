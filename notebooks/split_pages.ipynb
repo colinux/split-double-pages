{
 "cells": [
  {
   "cell_type": "code",
   "execution_count": null,
   "metadata": {},
   "outputs": [],
   "source": [
    "import pandas as pd\n",
    "import numpy as np\n",
    "import PythonMagick\n",
    "from PIL import Image\n",
    "import re\n",
    "\n",
    "%matplotlib inline\n",
    "\n"
   ]
  },
  {
   "cell_type": "code",
   "execution_count": null,
   "metadata": {},
   "outputs": [],
   "source": []
  },
  {
   "cell_type": "code",
   "execution_count": null,
   "metadata": {},
   "outputs": [],
   "source": [
    "DOWNSCALED_WIDTH=400\n",
    "\n",
    "def downscale(img):\n",
    "    o_width, o_height = img.size\n",
    "    height = round((DOWNSCALED_WIDTH/o_width) * o_height)\n",
    "    \n",
    "    ds_img = img.convert('L').resize((DOWNSCALED_WIDTH, height), resample=Image.BILINEAR)\n",
    "    \n",
    "    return ds_img\n",
    "\n",
    "def pixels_df(img):\n",
    "    pixels = list(img.getdata())\n",
    "    width, height = img.size\n",
    "    pixels = [pixels[i * width:(i + 1) * width] for i in range(height)]\n",
    "\n",
    "    return pd.DataFrame(pixels)\n"
   ]
  },
  {
   "cell_type": "code",
   "execution_count": null,
   "metadata": {},
   "outputs": [],
   "source": [
    "original = Image.open(\"../input/test-8.jpg\")\n",
    "\n",
    "img = downscale(original)\n",
    "df = pixels_df(img)\n",
    "\n",
    "print(\"Shape of matrix is %dx%d\" % (df.shape))\n",
    "\n",
    "\n",
    "# 0 = white, 1 = black pixels\n",
    "contrasted = df.applymap(lambda x: int(np.sqrt(x) if x < 127 else x**2) / (255**2))\n",
    "contrasted.describe()"
   ]
  },
  {
   "cell_type": "code",
   "execution_count": null,
   "metadata": {},
   "outputs": [],
   "source": [
    "def rescale(serie):\n",
    "    #return serie * 1/serie.max()\n",
    "    serie -= serie.min()\n",
    "    return serie / serie.max()\n",
    "\n",
    "def middle(df, replacement):\n",
    "    df2 = df.copy()\n",
    "    \n",
    "    if df.__class__ == pd.DataFrame:\n",
    "        third = int(len(df.columns) / 3)\n",
    "\n",
    "        df2.loc[:, :third] = replacement\n",
    "        df2.loc[:, 2*third:] = replacement\n",
    "    else:\n",
    "        third = int(len(df) / 3)\n",
    "        df2.loc[:third] = replacement\n",
    "        df2.loc[2*third:] = replacement\n",
    "\n",
    "    return df2"
   ]
  },
  {
   "cell_type": "code",
   "execution_count": null,
   "metadata": {},
   "outputs": [],
   "source": [
    "means = middle(contrasted, np.nan).mean()\n",
    "means.plot(title=\"Means value of pixels by column on downscaled image (0=black, 1=white)\", label=\"Means\", legend=True)\n",
    "\n",
    "std = contrasted.std()\n",
    "std.plot(label=\"Std\", legend=True)\n"
   ]
  },
  {
   "cell_type": "code",
   "execution_count": null,
   "metadata": {},
   "outputs": [],
   "source": [
    "img.show()"
   ]
  },
  {
   "cell_type": "code",
   "execution_count": null,
   "metadata": {},
   "outputs": [],
   "source": []
  },
  {
   "cell_type": "code",
   "execution_count": null,
   "metadata": {},
   "outputs": [],
   "source": []
  },
  {
   "cell_type": "code",
   "execution_count": null,
   "metadata": {},
   "outputs": [],
   "source": [
    "def apply_func_factory(serie):\n",
    "    center = len(serie)/2\n",
    "\n",
    "    def apply_func(x):\n",
    "        idx = x.name\n",
    "        return 1 - (abs(center - idx) ** 1.618) / center**1.618\n",
    "    \n",
    "    return apply_func\n",
    "    \n",
    "\n",
    "apply_func = apply_func_factory(means)\n",
    "\n",
    "center_amplifier = means.reset_index().apply(apply_func, axis=1)\n",
    "\n",
    "low_std_amplifier = rescale(means / (1 - means.std()))\n",
    "\n",
    "means.plot(label=\"Pixels means\", legend=True)\n",
    "center_amplifier.plot(label=\"Center amplifier function\", legend=True)\n",
    "low_std_amplifier.plot(label=\"Low std dev amplifier function\", legend=True)\n",
    "\n",
    "\n",
    "signal = rescale(rescale(means) * center_amplifier * low_std_amplifier)\n",
    "\n",
    "signal.plot(label=\"Signal\", legend=True)"
   ]
  },
  {
   "cell_type": "code",
   "execution_count": null,
   "metadata": {},
   "outputs": [],
   "source": [
    "\n"
   ]
  },
  {
   "cell_type": "code",
   "execution_count": null,
   "metadata": {},
   "outputs": [],
   "source": [
    "normalized = (signal * 10).round()\n",
    "normalized.plot(title=\"Normalized pixels on scale of 10\")"
   ]
  },
  {
   "cell_type": "code",
   "execution_count": null,
   "metadata": {},
   "outputs": [],
   "source": [
    "grouped = pd.DataFrame([normalized]).T.groupby(normalized, as_index=False)\n",
    "\n",
    "# luminosity distinct sorted values (10 at max = whitest)\n",
    "lum_val = grouped[0].last().round().values.flatten()\n",
    "lum_val.sort()\n",
    "whitest = lum_val[-1]\n",
    "darkest = lum_val[0]\n",
    "\n",
    "# whitests columns (maximum of luminosity)\n",
    "white_cols = pd.Series(grouped.get_group(whitest).index)\n",
    "dark_cols = pd.Series(grouped.get_group(darkest).index)\n",
    "\n",
    "if len(white_cols) < 0.01 * DOWNSCALED_WIDTH and lum_val[-2] >= whitest - 1:\n",
    "    next_group = pd.Series(grouped.get_group(lum_val[-2]).index)\n",
    "    if len(next_group) < 0.02 * DOWNSCALED_WIDTH:\n",
    "        white_cols = white_cols.append(next_group).sort_values()\n"
   ]
  },
  {
   "cell_type": "code",
   "execution_count": null,
   "metadata": {},
   "outputs": [],
   "source": [
    "first_idx, last_idx = white_cols.min(), white_cols.max()\n",
    "\n",
    "white_band = normalized.loc[first_idx:last_idx]\n",
    "\n",
    "if white_band.min() > white_band.max() - 2:\n",
    "    print(\"Use margin because original band min=%i, max=%i\" % (white_band.min(), white_band.max()))\n",
    "    margin = max(1, round(0.01 * DOWNSCALED_WIDTH))\n",
    "    white_band = normalized.loc[first_idx-margin:last_idx+margin]\n",
    "\n",
    "print(\"White band between has index range %d-%d\" % (white_band.index[0], white_band.index[-1]))\n",
    "# we have a dark local minimum in the white band\n",
    "band_min = white_band.min()\n",
    "print(\"Darkest inside white band: %s\" % band_min)"
   ]
  },
  {
   "cell_type": "code",
   "execution_count": null,
   "metadata": {},
   "outputs": [],
   "source": [
    "if whitest == 10 and (last_idx-first_idx+1) == len(white_cols) and len(white_cols) >= 0.02 * DOWNSCALED_WIDTH:\n",
    "    binding_point = white_cols.median()\n",
    "    print(\"binding_point=%f (strong white band)\" % binding_point)\n",
    "elif band_min <= whitest - 5:\n",
    "    dark_inside_median = white_band[white_band == band_min].reset_index()['index']\n",
    "        \n",
    "    binding_point = dark_inside_median.median()\n",
    "    print(\"binding_point=%f (local dark inside white band)\" % binding_point)\n",
    "elif darkest == 0 and len(dark_cols) <= 0.01 * DOWNSCALED_WIDTH:\n",
    "    binding_point = dark_cols.median()\n",
    "    print(\"binding_point=%f (dark peak)\" % binding_point)\n",
    "else:\n",
    "    # binding as median of indexes\n",
    "    binding_point = white_cols.median()\n",
    "    print(\"binding_point=%f (brightness max (default))\" % binding_point)\n"
   ]
  },
  {
   "cell_type": "code",
   "execution_count": null,
   "metadata": {},
   "outputs": [],
   "source": [
    "o_width, _ = original.size\n",
    "cut_x = round(o_width * (binding_point / DOWNSCALED_WIDTH))\n",
    "print(\"Split image must occurs at X=%d\" % cut_x)"
   ]
  },
  {
   "cell_type": "code",
   "execution_count": null,
   "metadata": {},
   "outputs": [],
   "source": [
    "\n"
   ]
  },
  {
   "cell_type": "code",
   "execution_count": null,
   "metadata": {},
   "outputs": [],
   "source": [
    "regex = re.compile(r\"\\D+(?P<left>[0-9]+)(?:[-_](?P<right>[0-9]+))?\\.jpg$\")\n",
    "\n",
    "def splitted_pages_numbers(filename):\n",
    "    match = regex.search(filename)\n",
    "\n",
    "    # page names as numbers\n",
    "    # left = int(match.group('left'))\n",
    "    # right = int(match.group('right') or left + 1)\n",
    "\n",
    "    # page names as suffixed from original\n",
    "    left = match.group('left') + \"-a\"\n",
    "    right = match.group('right') or (match.group('left') + \"-b\")\n",
    "\n",
    "    return { \"left\": left, \"right\": right }\n"
   ]
  },
  {
   "cell_type": "code",
   "execution_count": null,
   "metadata": {},
   "outputs": [],
   "source": [
    "def output_path(page_n):\n",
    "    return \"../output/page-%s.jpg\" % page_n\n",
    "\n",
    "def split_pages_paths(original_filename):\n",
    "    pages_numbers = splitted_pages_numbers(original_filename)\n",
    "    \n",
    "    return {\n",
    "        \"left\": output_path(pages_numbers[\"left\"]),\n",
    "        \"right\": output_path(pages_numbers[\"right\"]),\n",
    "    }\n",
    "    \n",
    "    \n",
    "def horizontal_split(img, cut_x):\n",
    "    dimLeft = (0, 0, cut_x - 1, img.height)\n",
    "    print(\"Dimensions left=%s\" % str(dimLeft))\n",
    "    imgLeft = img.crop(dimLeft)\n",
    "    \n",
    "    dimRight = (cut_x, 0, img.width, img.height)\n",
    "    print(\"Dimensions right=%s\" % str(dimRight))\n",
    "    imgRight = img.crop(dimRight)\n",
    "    \n",
    "\n",
    "    file_paths = split_pages_paths(img.filename)\n",
    "    \n",
    "    imgLeft.save(file_paths['left'])\n",
    "    imgRight.save(file_paths['right'])\n",
    "    \n",
    "    print(\"Saved 2 images: %s\" % str(file_paths))\n",
    "\n",
    "horizontal_split(original, cut_x)"
   ]
  },
  {
   "cell_type": "code",
   "execution_count": null,
   "metadata": {},
   "outputs": [],
   "source": []
  },
  {
   "cell_type": "code",
   "execution_count": null,
   "metadata": {},
   "outputs": [],
   "source": []
  },
  {
   "cell_type": "code",
   "execution_count": null,
   "metadata": {},
   "outputs": [],
   "source": []
  },
  {
   "cell_type": "code",
   "execution_count": null,
   "metadata": {},
   "outputs": [],
   "source": []
  },
  {
   "cell_type": "code",
   "execution_count": null,
   "metadata": {},
   "outputs": [],
   "source": []
  },
  {
   "cell_type": "code",
   "execution_count": null,
   "metadata": {},
   "outputs": [],
   "source": []
  },
  {
   "cell_type": "code",
   "execution_count": null,
   "metadata": {},
   "outputs": [],
   "source": []
  },
  {
   "cell_type": "code",
   "execution_count": null,
   "metadata": {},
   "outputs": [],
   "source": []
  },
  {
   "cell_type": "code",
   "execution_count": null,
   "metadata": {},
   "outputs": [],
   "source": []
  },
  {
   "cell_type": "code",
   "execution_count": null,
   "metadata": {},
   "outputs": [],
   "source": []
  }
 ],
 "metadata": {
  "kernelspec": {
   "display_name": "Python 3",
   "language": "python",
   "name": "python3"
  },
  "language_info": {
   "codemirror_mode": {
    "name": "ipython",
    "version": 3
   },
   "file_extension": ".py",
   "mimetype": "text/x-python",
   "name": "python",
   "nbconvert_exporter": "python",
   "pygments_lexer": "ipython3",
   "version": "3.5.2"
  }
 },
 "nbformat": 4,
 "nbformat_minor": 2
}
