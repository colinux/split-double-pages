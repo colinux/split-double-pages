{
 "cells": [
  {
   "cell_type": "code",
   "execution_count": 176,
   "metadata": {},
   "outputs": [],
   "source": [
    "import pandas as pd\n",
    "import numpy as np\n",
    "import PythonMagick\n",
    "from PIL import Image\n",
    "import re\n",
    "\n",
    "%matplotlib inline\n",
    "\n"
   ]
  },
  {
   "cell_type": "code",
   "execution_count": 177,
   "metadata": {},
   "outputs": [],
   "source": [
    "DOWNSCALED_WIDTH=400\n",
    "\n",
    "def downscale(img):\n",
    "    o_width, o_height = img.size\n",
    "    height = round((DOWNSCALED_WIDTH/o_width) * o_height)\n",
    "    \n",
    "    ds_img = img.resize((DOWNSCALED_WIDTH, height), resample=Image.BILINEAR)\n",
    "    \n",
    "    return ds_img\n",
    "\n",
    "def pixels_df(img):\n",
    "    pixels = list(img.getdata())\n",
    "    width, height = img.size\n",
    "    pixels = [pixels[i * width:(i + 1) * width] for i in range(height)]\n",
    "\n",
    "    return pd.DataFrame(pixels)\n"
   ]
  },
  {
   "cell_type": "code",
   "execution_count": 178,
   "metadata": {},
   "outputs": [
    {
     "name": "stdout",
     "output_type": "stream",
     "text": [
      "Shape of matrix is 283x400\n"
     ]
    },
    {
     "data": {
      "text/html": [
       "<div>\n",
       "<style scoped>\n",
       "    .dataframe tbody tr th:only-of-type {\n",
       "        vertical-align: middle;\n",
       "    }\n",
       "\n",
       "    .dataframe tbody tr th {\n",
       "        vertical-align: top;\n",
       "    }\n",
       "\n",
       "    .dataframe thead th {\n",
       "        text-align: right;\n",
       "    }\n",
       "</style>\n",
       "<table border=\"1\" class=\"dataframe\">\n",
       "  <thead>\n",
       "    <tr style=\"text-align: right;\">\n",
       "      <th></th>\n",
       "      <th>0</th>\n",
       "      <th>1</th>\n",
       "      <th>2</th>\n",
       "      <th>3</th>\n",
       "      <th>4</th>\n",
       "      <th>5</th>\n",
       "      <th>6</th>\n",
       "      <th>7</th>\n",
       "      <th>8</th>\n",
       "      <th>9</th>\n",
       "      <th>...</th>\n",
       "      <th>390</th>\n",
       "      <th>391</th>\n",
       "      <th>392</th>\n",
       "      <th>393</th>\n",
       "      <th>394</th>\n",
       "      <th>395</th>\n",
       "      <th>396</th>\n",
       "      <th>397</th>\n",
       "      <th>398</th>\n",
       "      <th>399</th>\n",
       "    </tr>\n",
       "  </thead>\n",
       "  <tbody>\n",
       "    <tr>\n",
       "      <th>count</th>\n",
       "      <td>283.000000</td>\n",
       "      <td>283.000000</td>\n",
       "      <td>283.000000</td>\n",
       "      <td>283.000000</td>\n",
       "      <td>283.000000</td>\n",
       "      <td>283.000000</td>\n",
       "      <td>283.000000</td>\n",
       "      <td>283.000000</td>\n",
       "      <td>283.000000</td>\n",
       "      <td>283.000000</td>\n",
       "      <td>...</td>\n",
       "      <td>283.000000</td>\n",
       "      <td>283.000000</td>\n",
       "      <td>283.000000</td>\n",
       "      <td>283.000000</td>\n",
       "      <td>283.000000</td>\n",
       "      <td>283.000000</td>\n",
       "      <td>283.000000</td>\n",
       "      <td>283.000000</td>\n",
       "      <td>283.000000</td>\n",
       "      <td>283.000000</td>\n",
       "    </tr>\n",
       "    <tr>\n",
       "      <th>mean</th>\n",
       "      <td>0.952051</td>\n",
       "      <td>0.299915</td>\n",
       "      <td>0.315092</td>\n",
       "      <td>0.690804</td>\n",
       "      <td>0.801450</td>\n",
       "      <td>0.991807</td>\n",
       "      <td>0.996674</td>\n",
       "      <td>0.996326</td>\n",
       "      <td>0.994843</td>\n",
       "      <td>0.995884</td>\n",
       "      <td>...</td>\n",
       "      <td>0.578312</td>\n",
       "      <td>0.575243</td>\n",
       "      <td>0.570441</td>\n",
       "      <td>0.566611</td>\n",
       "      <td>0.565702</td>\n",
       "      <td>0.555350</td>\n",
       "      <td>0.551689</td>\n",
       "      <td>0.621571</td>\n",
       "      <td>0.828839</td>\n",
       "      <td>0.996935</td>\n",
       "    </tr>\n",
       "    <tr>\n",
       "      <th>std</th>\n",
       "      <td>0.008065</td>\n",
       "      <td>0.108559</td>\n",
       "      <td>0.276291</td>\n",
       "      <td>0.339452</td>\n",
       "      <td>0.146910</td>\n",
       "      <td>0.030187</td>\n",
       "      <td>0.030902</td>\n",
       "      <td>0.033708</td>\n",
       "      <td>0.039432</td>\n",
       "      <td>0.040042</td>\n",
       "      <td>...</td>\n",
       "      <td>0.397819</td>\n",
       "      <td>0.395548</td>\n",
       "      <td>0.395484</td>\n",
       "      <td>0.394203</td>\n",
       "      <td>0.394011</td>\n",
       "      <td>0.391535</td>\n",
       "      <td>0.393359</td>\n",
       "      <td>0.426651</td>\n",
       "      <td>0.253254</td>\n",
       "      <td>0.006080</td>\n",
       "    </tr>\n",
       "    <tr>\n",
       "      <th>min</th>\n",
       "      <td>0.945852</td>\n",
       "      <td>0.251965</td>\n",
       "      <td>0.000123</td>\n",
       "      <td>0.000138</td>\n",
       "      <td>0.492749</td>\n",
       "      <td>0.621315</td>\n",
       "      <td>0.549343</td>\n",
       "      <td>0.509404</td>\n",
       "      <td>0.449689</td>\n",
       "      <td>0.408597</td>\n",
       "      <td>...</td>\n",
       "      <td>0.000123</td>\n",
       "      <td>0.000108</td>\n",
       "      <td>0.000123</td>\n",
       "      <td>0.000123</td>\n",
       "      <td>0.000108</td>\n",
       "      <td>0.000123</td>\n",
       "      <td>0.000123</td>\n",
       "      <td>0.000123</td>\n",
       "      <td>0.280277</td>\n",
       "      <td>0.968874</td>\n",
       "    </tr>\n",
       "    <tr>\n",
       "      <th>25%</th>\n",
       "      <td>0.945852</td>\n",
       "      <td>0.267958</td>\n",
       "      <td>0.000138</td>\n",
       "      <td>0.543560</td>\n",
       "      <td>0.691180</td>\n",
       "      <td>0.992172</td>\n",
       "      <td>1.000000</td>\n",
       "      <td>1.000000</td>\n",
       "      <td>1.000000</td>\n",
       "      <td>1.000000</td>\n",
       "      <td>...</td>\n",
       "      <td>0.000123</td>\n",
       "      <td>0.000123</td>\n",
       "      <td>0.000123</td>\n",
       "      <td>0.000123</td>\n",
       "      <td>0.000123</td>\n",
       "      <td>0.000123</td>\n",
       "      <td>0.000123</td>\n",
       "      <td>0.000138</td>\n",
       "      <td>0.549343</td>\n",
       "      <td>0.992172</td>\n",
       "    </tr>\n",
       "    <tr>\n",
       "      <th>50%</th>\n",
       "      <td>0.953495</td>\n",
       "      <td>0.276140</td>\n",
       "      <td>0.355309</td>\n",
       "      <td>0.856532</td>\n",
       "      <td>0.863806</td>\n",
       "      <td>1.000000</td>\n",
       "      <td>1.000000</td>\n",
       "      <td>1.000000</td>\n",
       "      <td>1.000000</td>\n",
       "      <td>1.000000</td>\n",
       "      <td>...</td>\n",
       "      <td>0.737578</td>\n",
       "      <td>0.730857</td>\n",
       "      <td>0.717509</td>\n",
       "      <td>0.697716</td>\n",
       "      <td>0.691180</td>\n",
       "      <td>0.671757</td>\n",
       "      <td>0.665344</td>\n",
       "      <td>0.849289</td>\n",
       "      <td>0.992172</td>\n",
       "      <td>1.000000</td>\n",
       "    </tr>\n",
       "    <tr>\n",
       "      <th>75%</th>\n",
       "      <td>0.953495</td>\n",
       "      <td>0.292872</td>\n",
       "      <td>0.532042</td>\n",
       "      <td>0.945852</td>\n",
       "      <td>0.926882</td>\n",
       "      <td>1.000000</td>\n",
       "      <td>1.000000</td>\n",
       "      <td>1.000000</td>\n",
       "      <td>1.000000</td>\n",
       "      <td>1.000000</td>\n",
       "      <td>...</td>\n",
       "      <td>0.923106</td>\n",
       "      <td>0.923106</td>\n",
       "      <td>0.938239</td>\n",
       "      <td>0.938239</td>\n",
       "      <td>0.938239</td>\n",
       "      <td>0.938239</td>\n",
       "      <td>0.926882</td>\n",
       "      <td>0.949673</td>\n",
       "      <td>1.000000</td>\n",
       "      <td>1.000000</td>\n",
       "    </tr>\n",
       "    <tr>\n",
       "      <th>max</th>\n",
       "      <td>1.000000</td>\n",
       "      <td>1.000000</td>\n",
       "      <td>1.000000</td>\n",
       "      <td>1.000000</td>\n",
       "      <td>1.000000</td>\n",
       "      <td>1.000000</td>\n",
       "      <td>1.000000</td>\n",
       "      <td>1.000000</td>\n",
       "      <td>1.000000</td>\n",
       "      <td>1.000000</td>\n",
       "      <td>...</td>\n",
       "      <td>1.000000</td>\n",
       "      <td>1.000000</td>\n",
       "      <td>1.000000</td>\n",
       "      <td>1.000000</td>\n",
       "      <td>1.000000</td>\n",
       "      <td>1.000000</td>\n",
       "      <td>1.000000</td>\n",
       "      <td>1.000000</td>\n",
       "      <td>1.000000</td>\n",
       "      <td>1.000000</td>\n",
       "    </tr>\n",
       "  </tbody>\n",
       "</table>\n",
       "<p>8 rows × 400 columns</p>\n",
       "</div>"
      ],
      "text/plain": [
       "              0           1           2           3           4           5    \\\n",
       "count  283.000000  283.000000  283.000000  283.000000  283.000000  283.000000   \n",
       "mean     0.952051    0.299915    0.315092    0.690804    0.801450    0.991807   \n",
       "std      0.008065    0.108559    0.276291    0.339452    0.146910    0.030187   \n",
       "min      0.945852    0.251965    0.000123    0.000138    0.492749    0.621315   \n",
       "25%      0.945852    0.267958    0.000138    0.543560    0.691180    0.992172   \n",
       "50%      0.953495    0.276140    0.355309    0.856532    0.863806    1.000000   \n",
       "75%      0.953495    0.292872    0.532042    0.945852    0.926882    1.000000   \n",
       "max      1.000000    1.000000    1.000000    1.000000    1.000000    1.000000   \n",
       "\n",
       "              6           7           8           9       ...             390  \\\n",
       "count  283.000000  283.000000  283.000000  283.000000     ...      283.000000   \n",
       "mean     0.996674    0.996326    0.994843    0.995884     ...        0.578312   \n",
       "std      0.030902    0.033708    0.039432    0.040042     ...        0.397819   \n",
       "min      0.549343    0.509404    0.449689    0.408597     ...        0.000123   \n",
       "25%      1.000000    1.000000    1.000000    1.000000     ...        0.000123   \n",
       "50%      1.000000    1.000000    1.000000    1.000000     ...        0.737578   \n",
       "75%      1.000000    1.000000    1.000000    1.000000     ...        0.923106   \n",
       "max      1.000000    1.000000    1.000000    1.000000     ...        1.000000   \n",
       "\n",
       "              391         392         393         394         395         396  \\\n",
       "count  283.000000  283.000000  283.000000  283.000000  283.000000  283.000000   \n",
       "mean     0.575243    0.570441    0.566611    0.565702    0.555350    0.551689   \n",
       "std      0.395548    0.395484    0.394203    0.394011    0.391535    0.393359   \n",
       "min      0.000108    0.000123    0.000123    0.000108    0.000123    0.000123   \n",
       "25%      0.000123    0.000123    0.000123    0.000123    0.000123    0.000123   \n",
       "50%      0.730857    0.717509    0.697716    0.691180    0.671757    0.665344   \n",
       "75%      0.923106    0.938239    0.938239    0.938239    0.938239    0.926882   \n",
       "max      1.000000    1.000000    1.000000    1.000000    1.000000    1.000000   \n",
       "\n",
       "              397         398         399  \n",
       "count  283.000000  283.000000  283.000000  \n",
       "mean     0.621571    0.828839    0.996935  \n",
       "std      0.426651    0.253254    0.006080  \n",
       "min      0.000123    0.280277    0.968874  \n",
       "25%      0.000138    0.549343    0.992172  \n",
       "50%      0.849289    0.992172    1.000000  \n",
       "75%      0.949673    1.000000    1.000000  \n",
       "max      1.000000    1.000000    1.000000  \n",
       "\n",
       "[8 rows x 400 columns]"
      ]
     },
     "execution_count": 178,
     "metadata": {},
     "output_type": "execute_result"
    }
   ],
   "source": [
    "original = Image.open(\"../input/test-27.jpg\")\n",
    "\n",
    "img = downscale(original)\n",
    "df = pixels_df(img)\n",
    "\n",
    "print(\"Shape of matrix is %dx%d\" % (df.shape))\n",
    "\n",
    "\n",
    "# 0 = white, 1 = black pixels\n",
    "contrasted = df.applymap(lambda x: int(np.sqrt(x) if x < 127 else x**2) / (255**2))\n",
    "contrasted.describe()"
   ]
  },
  {
   "cell_type": "code",
   "execution_count": 179,
   "metadata": {},
   "outputs": [
    {
     "data": {
      "text/plain": [
       "<matplotlib.axes._subplots.AxesSubplot at 0x115d58eb8>"
      ]
     },
     "execution_count": 179,
     "metadata": {},
     "output_type": "execute_result"
    },
    {
     "data": {
      "image/png": "[encoded data removed]",
      "text/plain": [
       "<matplotlib.figure.Figure at 0x115aa69b0>"
      ]
     },
     "metadata": {},
     "output_type": "display_data"
    }
   ],
   "source": [
    "means = contrasted.mean()\n",
    "means.plot(title=\"Means value of pixels by column on downscaled image (0=black, 1=white)\")"
   ]
  },
  {
   "cell_type": "code",
   "execution_count": 180,
   "metadata": {},
   "outputs": [],
   "source": [
    "# img.show()"
   ]
  },
  {
   "cell_type": "code",
   "execution_count": 181,
   "metadata": {},
   "outputs": [
    {
     "data": {
      "text/plain": [
       "<matplotlib.axes._subplots.AxesSubplot at 0x115d44be0>"
      ]
     },
     "execution_count": 181,
     "metadata": {},
     "output_type": "execute_result"
    },
    {
     "data": {
      "image/png": "[encoded data removed]",
      "text/plain": [
       "<matplotlib.figure.Figure at 0x115d58ac8>"
      ]
     },
     "metadata": {},
     "output_type": "display_data"
    }
   ],
   "source": [
    "std = contrasted.std()\n",
    "std.plot(title=\"Standard deviation (mean = %f)\" % std.mean())"
   ]
  },
  {
   "cell_type": "code",
   "execution_count": 182,
   "metadata": {},
   "outputs": [],
   "source": [
    "def outliers(df):\n",
    "    std = df.std()\n",
    "    q = std.quantile(0.5)\n",
    "    print(\"Outliers are std > %f\" % q)\n",
    "    return std[std > q]\n"
   ]
  },
  {
   "cell_type": "code",
   "execution_count": 183,
   "metadata": {},
   "outputs": [
    {
     "name": "stdout",
     "output_type": "stream",
     "text": [
      "Outliers are std > 0.234902\n"
     ]
    },
    {
     "data": {
      "text/plain": [
       "<matplotlib.axes._subplots.AxesSubplot at 0x115d28748>"
      ]
     },
     "execution_count": 183,
     "metadata": {},
     "output_type": "execute_result"
    },
    {
     "data": {
      "image/png": "[encoded data removed]",
      "text/plain": [
       "<matplotlib.figure.Figure at 0x115d7e4a8>"
      ]
     },
     "metadata": {},
     "output_type": "display_data"
    }
   ],
   "source": [
    "def apply_func_factory(serie):\n",
    "    center = len(serie)/2\n",
    "\n",
    "    def apply_func(x):\n",
    "        idx = x.name\n",
    "        return 1 - (abs(center - idx) ** 2) / center**2\n",
    "    \n",
    "    return apply_func\n",
    "    \n",
    "\n",
    "apply_func = apply_func_factory(means)\n",
    "\n",
    "factors = means.reset_index().apply(apply_func, axis=1)\n",
    "\n",
    "means.plot(label=\"Pixels means\", legend=True)\n",
    "factors.plot(label=\"Amplificator factors\", legend=True)\n",
    "\n",
    "final = means * factors\n",
    "#amplified.plot(label=\"Amplified pixels means\", legend=True)\n",
    "\n",
    "\n",
    "final.iloc[outliers(contrasted).index] = np.nan\n",
    "final.plot(label=\"Amplified pixels means without outlier\", legend=True)"
   ]
  },
  {
   "cell_type": "code",
   "execution_count": 184,
   "metadata": {},
   "outputs": [
    {
     "data": {
      "text/plain": [
       "<matplotlib.axes._subplots.AxesSubplot at 0x115a89c18>"
      ]
     },
     "execution_count": 184,
     "metadata": {},
     "output_type": "execute_result"
    },
    {
     "data": {
      "image/png": "[encoded data removed]",
      "text/plain": [
       "<matplotlib.figure.Figure at 0x115d79eb8>"
      ]
     },
     "metadata": {},
     "output_type": "display_data"
    }
   ],
   "source": [
    "normalized = (final * 10).round()\n",
    "normalized.plot(title=\"Normalized pixels on scale of 10\")"
   ]
  },
  {
   "cell_type": "code",
   "execution_count": 185,
   "metadata": {},
   "outputs": [],
   "source": [
    "grouped = pd.DataFrame([normalized]).T.groupby(normalized, as_index=False)\n",
    "\n",
    "# luminosity distinct sorted values (10 at max = whitest)\n",
    "lum_val = grouped[0].last().round().values.flatten()\n",
    "lum_val.sort()\n",
    "whitest = lum_val[-1]\n",
    "\n",
    "# whitests columns (maximum of luminosity)\n",
    "white_cols = pd.Series(grouped.get_group(whitest).index)\n",
    "\n",
    "if len(white_cols) < 0.02 * DOWNSCALED_WIDTH:\n",
    "    next_group = pd.Series(grouped.get_group(lum_val[-2]).index)\n",
    "    if len(next_group) < 0.1 * DOWNSCALED_WIDTH:\n",
    "        white_cols = white_cols.append(next_group)\n"
   ]
  },
  {
   "cell_type": "code",
   "execution_count": 186,
   "metadata": {},
   "outputs": [
    {
     "name": "stdout",
     "output_type": "stream",
     "text": [
      "Darkest inside white band: 7.0\n"
     ]
    }
   ],
   "source": [
    "first_idx, last_idx = white_cols.min(), white_cols.max()\n",
    "margin = max(1, round(0.01 * DOWNSCALED_WIDTH))\n",
    "white_band = normalized.loc[first_idx-margin:last_idx+margin]\n",
    "\n",
    "\n",
    "# we have a dark local minimum in the white band\n",
    "band_min = white_band.min()\n",
    "print(\"Darkest inside white band: %s\" % band_min)"
   ]
  },
  {
   "cell_type": "code",
   "execution_count": 187,
   "metadata": {},
   "outputs": [
    {
     "name": "stdout",
     "output_type": "stream",
     "text": [
      "For a width of 400, split at pixel 159.500000 (median in dark range around middle)\n"
     ]
    }
   ],
   "source": [
    "if band_min <= whitest - 2:\n",
    "    median_columns = normalized[first_idx-margin:last_idx+margin]\n",
    "    dark_inside_median = median_columns[median_columns == band_min].reset_index()['index']\n",
    "    binding_point = dark_inside_median.median()\n",
    "    print(\"For a width of %d, split at pixel %f (median in dark range around middle)\" % (DOWNSCALED_WIDTH, binding_point))\n",
    "else:\n",
    "    # binding as median of indexes\n",
    "    binding_point = white_cols.mean()\n",
    "    print(\"For a width of %d, split at pixel %f (median of maximum)\" % (DOWNSCALED_WIDTH, binding_point))"
   ]
  },
  {
   "cell_type": "code",
   "execution_count": 188,
   "metadata": {},
   "outputs": [
    {
     "name": "stdout",
     "output_type": "stream",
     "text": [
      "Split image must occurs at X=1399\n"
     ]
    }
   ],
   "source": [
    "o_width, _ = original.size\n",
    "cut_x = round(o_width * (binding_point / DOWNSCALED_WIDTH))\n",
    "print(\"Split image must occurs at X=%d\" % cut_x)"
   ]
  },
  {
   "cell_type": "code",
   "execution_count": 189,
   "metadata": {},
   "outputs": [],
   "source": [
    "regex = re.compile(r\"\\D+(?P<left>[0-9]+)(?:[-_](?P<right>[0-9]+))?\\.jpg$\")\n",
    "\n",
    "def splitted_pages_numbers(filename):\n",
    "    match = regex.search(filename)\n",
    "\n",
    "    # page names as numbers\n",
    "    # left = int(match.group('left'))\n",
    "    # right = int(match.group('right') or left + 1)\n",
    "\n",
    "    # page names as suffixed from original\n",
    "    left = match.group('left') + \"-a\"\n",
    "    right = match.group('right') or (match.group('left') + \"-b\")\n",
    "\n",
    "    return { \"left\": left, \"right\": right }\n"
   ]
  },
  {
   "cell_type": "code",
   "execution_count": 190,
   "metadata": {},
   "outputs": [
    {
     "name": "stdout",
     "output_type": "stream",
     "text": [
      "Dimensions left=(0, 0, 1398, 2479)\n",
      "Dimensions right=(1399, 0, 3508, 2479)\n",
      "Saved 2 images: {'right': '../output/page-27-b.jpg', 'left': '../output/page-27-a.jpg'}\n"
     ]
    }
   ],
   "source": [
    "def output_path(page_n):\n",
    "    return \"../output/page-%s.jpg\" % page_n\n",
    "\n",
    "def split_pages_paths(original_filename):\n",
    "    pages_numbers = splitted_pages_numbers(original_filename)\n",
    "    \n",
    "    return {\n",
    "        \"left\": output_path(pages_numbers[\"left\"]),\n",
    "        \"right\": output_path(pages_numbers[\"right\"]),\n",
    "    }\n",
    "    \n",
    "    \n",
    "def horizontal_split(img, cut_x):\n",
    "    dimLeft = (0, 0, cut_x - 1, img.height)\n",
    "    print(\"Dimensions left=%s\" % str(dimLeft))\n",
    "    imgLeft = img.crop(dimLeft)\n",
    "    \n",
    "    dimRight = (cut_x, 0, img.width, img.height)\n",
    "    print(\"Dimensions right=%s\" % str(dimRight))\n",
    "    imgRight = img.crop(dimRight)\n",
    "    \n",
    "\n",
    "    file_paths = split_pages_paths(img.filename)\n",
    "    \n",
    "    imgLeft.save(file_paths['left'])\n",
    "    imgRight.save(file_paths['right'])\n",
    "    \n",
    "    print(\"Saved 2 images: %s\" % str(file_paths))\n",
    "\n",
    "horizontal_split(original, cut_x)"
   ]
  },
  {
   "cell_type": "code",
   "execution_count": null,
   "metadata": {},
   "outputs": [],
   "source": []
  },
  {
   "cell_type": "code",
   "execution_count": null,
   "metadata": {},
   "outputs": [],
   "source": []
  },
  {
   "cell_type": "code",
   "execution_count": null,
   "metadata": {},
   "outputs": [],
   "source": []
  },
  {
   "cell_type": "code",
   "execution_count": null,
   "metadata": {},
   "outputs": [],
   "source": []
  }
 ],
 "metadata": {
  "kernelspec": {
   "display_name": "Python 3",
   "language": "python",
   "name": "python3"
  },
  "language_info": {
   "codemirror_mode": {
    "name": "ipython",
    "version": 3
   },
   "file_extension": ".py",
   "mimetype": "text/x-python",
   "name": "python",
   "nbconvert_exporter": "python",
   "pygments_lexer": "ipython3",
   "version": "3.5.2"
  }
 },
 "nbformat": 4,
 "nbformat_minor": 2
}
