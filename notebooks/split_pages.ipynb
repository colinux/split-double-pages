{
 "cells": [
  {
   "cell_type": "code",
   "execution_count": 347,
   "metadata": {},
   "outputs": [],
   "source": [
    "import pandas as pd\n",
    "import numpy as np\n",
    "import PythonMagick\n",
    "from PIL import Image\n",
    "import re\n",
    "\n",
    "%matplotlib inline\n",
    "\n"
   ]
  },
  {
   "cell_type": "code",
   "execution_count": 367,
   "metadata": {},
   "outputs": [],
   "source": [
    "DOWNSCALED_WIDTH=400\n",
    "\n",
    "def downscale(img):\n",
    "    o_width, o_height = img.size\n",
    "    height = round((DOWNSCALED_WIDTH/o_width) * o_height)\n",
    "    \n",
    "    ds_img = img.resize((DOWNSCALED_WIDTH, height), resample=Image.BILINEAR)\n",
    "    ds_img.show()\n",
    "    \n",
    "    return ds_img\n",
    "\n",
    "def pixels_df(img):\n",
    "    pixels = list(img.getdata())\n",
    "    width, height = img.size\n",
    "    pixels = [pixels[i * width:(i + 1) * width] for i in range(height)]\n",
    "\n",
    "    return pd.DataFrame(pixels)\n"
   ]
  },
  {
   "cell_type": "code",
   "execution_count": 372,
   "metadata": {},
   "outputs": [
    {
     "name": "stdout",
     "output_type": "stream",
     "text": [
      "Shape of matrix is 286x400\n"
     ]
    },
    {
     "data": {
      "text/html": [
       "<div>\n",
       "<style scoped>\n",
       "    .dataframe tbody tr th:only-of-type {\n",
       "        vertical-align: middle;\n",
       "    }\n",
       "\n",
       "    .dataframe tbody tr th {\n",
       "        vertical-align: top;\n",
       "    }\n",
       "\n",
       "    .dataframe thead th {\n",
       "        text-align: right;\n",
       "    }\n",
       "</style>\n",
       "<table border=\"1\" class=\"dataframe\">\n",
       "  <thead>\n",
       "    <tr style=\"text-align: right;\">\n",
       "      <th></th>\n",
       "      <th>0</th>\n",
       "      <th>1</th>\n",
       "      <th>2</th>\n",
       "      <th>3</th>\n",
       "      <th>4</th>\n",
       "      <th>5</th>\n",
       "      <th>6</th>\n",
       "      <th>7</th>\n",
       "      <th>8</th>\n",
       "      <th>9</th>\n",
       "      <th>...</th>\n",
       "      <th>390</th>\n",
       "      <th>391</th>\n",
       "      <th>392</th>\n",
       "      <th>393</th>\n",
       "      <th>394</th>\n",
       "      <th>395</th>\n",
       "      <th>396</th>\n",
       "      <th>397</th>\n",
       "      <th>398</th>\n",
       "      <th>399</th>\n",
       "    </tr>\n",
       "  </thead>\n",
       "  <tbody>\n",
       "    <tr>\n",
       "      <th>count</th>\n",
       "      <td>286.000000</td>\n",
       "      <td>286.000000</td>\n",
       "      <td>286.000000</td>\n",
       "      <td>286.000000</td>\n",
       "      <td>286.000000</td>\n",
       "      <td>286.000000</td>\n",
       "      <td>286.000000</td>\n",
       "      <td>286.000000</td>\n",
       "      <td>286.000000</td>\n",
       "      <td>286.000000</td>\n",
       "      <td>...</td>\n",
       "      <td>286.000000</td>\n",
       "      <td>286.000000</td>\n",
       "      <td>286.000000</td>\n",
       "      <td>286.000000</td>\n",
       "      <td>286.000000</td>\n",
       "      <td>286.000000</td>\n",
       "      <td>286.000000</td>\n",
       "      <td>286.000000</td>\n",
       "      <td>286.000000</td>\n",
       "      <td>286.000000</td>\n",
       "    </tr>\n",
       "    <tr>\n",
       "      <th>mean</th>\n",
       "      <td>0.995904</td>\n",
       "      <td>0.993114</td>\n",
       "      <td>0.996690</td>\n",
       "      <td>0.997565</td>\n",
       "      <td>0.998605</td>\n",
       "      <td>0.998933</td>\n",
       "      <td>0.999425</td>\n",
       "      <td>0.999507</td>\n",
       "      <td>0.999562</td>\n",
       "      <td>0.999644</td>\n",
       "      <td>...</td>\n",
       "      <td>0.997159</td>\n",
       "      <td>0.999457</td>\n",
       "      <td>0.999647</td>\n",
       "      <td>0.999540</td>\n",
       "      <td>0.999460</td>\n",
       "      <td>0.999354</td>\n",
       "      <td>0.999407</td>\n",
       "      <td>0.999407</td>\n",
       "      <td>0.999354</td>\n",
       "      <td>0.999809</td>\n",
       "    </tr>\n",
       "    <tr>\n",
       "      <th>std</th>\n",
       "      <td>0.007319</td>\n",
       "      <td>0.007032</td>\n",
       "      <td>0.004535</td>\n",
       "      <td>0.003914</td>\n",
       "      <td>0.003274</td>\n",
       "      <td>0.002845</td>\n",
       "      <td>0.002147</td>\n",
       "      <td>0.002013</td>\n",
       "      <td>0.001802</td>\n",
       "      <td>0.001633</td>\n",
       "      <td>...</td>\n",
       "      <td>0.005866</td>\n",
       "      <td>0.004421</td>\n",
       "      <td>0.003575</td>\n",
       "      <td>0.004762</td>\n",
       "      <td>0.005715</td>\n",
       "      <td>0.006929</td>\n",
       "      <td>0.006321</td>\n",
       "      <td>0.006321</td>\n",
       "      <td>0.006929</td>\n",
       "      <td>0.001896</td>\n",
       "    </tr>\n",
       "    <tr>\n",
       "      <th>min</th>\n",
       "      <td>0.923106</td>\n",
       "      <td>0.945852</td>\n",
       "      <td>0.984375</td>\n",
       "      <td>0.984375</td>\n",
       "      <td>0.984375</td>\n",
       "      <td>0.984375</td>\n",
       "      <td>0.984375</td>\n",
       "      <td>0.984375</td>\n",
       "      <td>0.992172</td>\n",
       "      <td>0.992172</td>\n",
       "      <td>...</td>\n",
       "      <td>0.945852</td>\n",
       "      <td>0.945852</td>\n",
       "      <td>0.953495</td>\n",
       "      <td>0.938239</td>\n",
       "      <td>0.923106</td>\n",
       "      <td>0.908097</td>\n",
       "      <td>0.915586</td>\n",
       "      <td>0.915586</td>\n",
       "      <td>0.908097</td>\n",
       "      <td>0.976609</td>\n",
       "    </tr>\n",
       "    <tr>\n",
       "      <th>25%</th>\n",
       "      <td>0.992172</td>\n",
       "      <td>0.992172</td>\n",
       "      <td>0.992172</td>\n",
       "      <td>0.992172</td>\n",
       "      <td>1.000000</td>\n",
       "      <td>1.000000</td>\n",
       "      <td>1.000000</td>\n",
       "      <td>1.000000</td>\n",
       "      <td>1.000000</td>\n",
       "      <td>1.000000</td>\n",
       "      <td>...</td>\n",
       "      <td>0.992172</td>\n",
       "      <td>1.000000</td>\n",
       "      <td>1.000000</td>\n",
       "      <td>1.000000</td>\n",
       "      <td>1.000000</td>\n",
       "      <td>1.000000</td>\n",
       "      <td>1.000000</td>\n",
       "      <td>1.000000</td>\n",
       "      <td>1.000000</td>\n",
       "      <td>1.000000</td>\n",
       "    </tr>\n",
       "    <tr>\n",
       "      <th>50%</th>\n",
       "      <td>1.000000</td>\n",
       "      <td>0.992172</td>\n",
       "      <td>1.000000</td>\n",
       "      <td>1.000000</td>\n",
       "      <td>1.000000</td>\n",
       "      <td>1.000000</td>\n",
       "      <td>1.000000</td>\n",
       "      <td>1.000000</td>\n",
       "      <td>1.000000</td>\n",
       "      <td>1.000000</td>\n",
       "      <td>...</td>\n",
       "      <td>1.000000</td>\n",
       "      <td>1.000000</td>\n",
       "      <td>1.000000</td>\n",
       "      <td>1.000000</td>\n",
       "      <td>1.000000</td>\n",
       "      <td>1.000000</td>\n",
       "      <td>1.000000</td>\n",
       "      <td>1.000000</td>\n",
       "      <td>1.000000</td>\n",
       "      <td>1.000000</td>\n",
       "    </tr>\n",
       "    <tr>\n",
       "      <th>75%</th>\n",
       "      <td>1.000000</td>\n",
       "      <td>1.000000</td>\n",
       "      <td>1.000000</td>\n",
       "      <td>1.000000</td>\n",
       "      <td>1.000000</td>\n",
       "      <td>1.000000</td>\n",
       "      <td>1.000000</td>\n",
       "      <td>1.000000</td>\n",
       "      <td>1.000000</td>\n",
       "      <td>1.000000</td>\n",
       "      <td>...</td>\n",
       "      <td>1.000000</td>\n",
       "      <td>1.000000</td>\n",
       "      <td>1.000000</td>\n",
       "      <td>1.000000</td>\n",
       "      <td>1.000000</td>\n",
       "      <td>1.000000</td>\n",
       "      <td>1.000000</td>\n",
       "      <td>1.000000</td>\n",
       "      <td>1.000000</td>\n",
       "      <td>1.000000</td>\n",
       "    </tr>\n",
       "    <tr>\n",
       "      <th>max</th>\n",
       "      <td>1.000000</td>\n",
       "      <td>1.000000</td>\n",
       "      <td>1.000000</td>\n",
       "      <td>1.000000</td>\n",
       "      <td>1.000000</td>\n",
       "      <td>1.000000</td>\n",
       "      <td>1.000000</td>\n",
       "      <td>1.000000</td>\n",
       "      <td>1.000000</td>\n",
       "      <td>1.000000</td>\n",
       "      <td>...</td>\n",
       "      <td>1.000000</td>\n",
       "      <td>1.000000</td>\n",
       "      <td>1.000000</td>\n",
       "      <td>1.000000</td>\n",
       "      <td>1.000000</td>\n",
       "      <td>1.000000</td>\n",
       "      <td>1.000000</td>\n",
       "      <td>1.000000</td>\n",
       "      <td>1.000000</td>\n",
       "      <td>1.000000</td>\n",
       "    </tr>\n",
       "  </tbody>\n",
       "</table>\n",
       "<p>8 rows × 400 columns</p>\n",
       "</div>"
      ],
      "text/plain": [
       "              0           1           2           3           4           5    \\\n",
       "count  286.000000  286.000000  286.000000  286.000000  286.000000  286.000000   \n",
       "mean     0.995904    0.993114    0.996690    0.997565    0.998605    0.998933   \n",
       "std      0.007319    0.007032    0.004535    0.003914    0.003274    0.002845   \n",
       "min      0.923106    0.945852    0.984375    0.984375    0.984375    0.984375   \n",
       "25%      0.992172    0.992172    0.992172    0.992172    1.000000    1.000000   \n",
       "50%      1.000000    0.992172    1.000000    1.000000    1.000000    1.000000   \n",
       "75%      1.000000    1.000000    1.000000    1.000000    1.000000    1.000000   \n",
       "max      1.000000    1.000000    1.000000    1.000000    1.000000    1.000000   \n",
       "\n",
       "              6           7           8           9       ...             390  \\\n",
       "count  286.000000  286.000000  286.000000  286.000000     ...      286.000000   \n",
       "mean     0.999425    0.999507    0.999562    0.999644     ...        0.997159   \n",
       "std      0.002147    0.002013    0.001802    0.001633     ...        0.005866   \n",
       "min      0.984375    0.984375    0.992172    0.992172     ...        0.945852   \n",
       "25%      1.000000    1.000000    1.000000    1.000000     ...        0.992172   \n",
       "50%      1.000000    1.000000    1.000000    1.000000     ...        1.000000   \n",
       "75%      1.000000    1.000000    1.000000    1.000000     ...        1.000000   \n",
       "max      1.000000    1.000000    1.000000    1.000000     ...        1.000000   \n",
       "\n",
       "              391         392         393         394         395         396  \\\n",
       "count  286.000000  286.000000  286.000000  286.000000  286.000000  286.000000   \n",
       "mean     0.999457    0.999647    0.999540    0.999460    0.999354    0.999407   \n",
       "std      0.004421    0.003575    0.004762    0.005715    0.006929    0.006321   \n",
       "min      0.945852    0.953495    0.938239    0.923106    0.908097    0.915586   \n",
       "25%      1.000000    1.000000    1.000000    1.000000    1.000000    1.000000   \n",
       "50%      1.000000    1.000000    1.000000    1.000000    1.000000    1.000000   \n",
       "75%      1.000000    1.000000    1.000000    1.000000    1.000000    1.000000   \n",
       "max      1.000000    1.000000    1.000000    1.000000    1.000000    1.000000   \n",
       "\n",
       "              397         398         399  \n",
       "count  286.000000  286.000000  286.000000  \n",
       "mean     0.999407    0.999354    0.999809  \n",
       "std      0.006321    0.006929    0.001896  \n",
       "min      0.915586    0.908097    0.976609  \n",
       "25%      1.000000    1.000000    1.000000  \n",
       "50%      1.000000    1.000000    1.000000  \n",
       "75%      1.000000    1.000000    1.000000  \n",
       "max      1.000000    1.000000    1.000000  \n",
       "\n",
       "[8 rows x 400 columns]"
      ]
     },
     "execution_count": 372,
     "metadata": {},
     "output_type": "execute_result"
    }
   ],
   "source": [
    "original = Image.open(\"../input/scan0027.jpg\")\n",
    "\n",
    "img = downscale(original)\n",
    "df = pixels_df(img)\n",
    "\n",
    "print(\"Shape of matrix is %dx%d\" % (df.shape))\n",
    "\n",
    "\n",
    "# 0 = white, 1 = black pixels\n",
    "contrasted = df.applymap(lambda x: int(np.sqrt(x) if x < 127 else x**2) / (255**2))\n",
    "contrasted.describe()"
   ]
  },
  {
   "cell_type": "code",
   "execution_count": 374,
   "metadata": {},
   "outputs": [
    {
     "data": {
      "text/plain": [
       "<matplotlib.axes._subplots.AxesSubplot at 0x116c9ae80>"
      ]
     },
     "execution_count": 374,
     "metadata": {},
     "output_type": "execute_result"
    },
    {
     "data": {
      "image/png": "[encoded data removed]",
      "text/plain": [
       "<matplotlib.figure.Figure at 0x11b96d6d8>"
      ]
     },
     "metadata": {},
     "output_type": "display_data"
    }
   ],
   "source": [
    "means = contrasted.mean()\n",
    "means.plot(title=\"Means value of pixels by column on downscaled image (0=black, 1=white)\")"
   ]
  },
  {
   "cell_type": "code",
   "execution_count": null,
   "metadata": {},
   "outputs": [],
   "source": []
  },
  {
   "cell_type": "code",
   "execution_count": 375,
   "metadata": {},
   "outputs": [],
   "source": [
    "# means.head(10)"
   ]
  },
  {
   "cell_type": "code",
   "execution_count": null,
   "metadata": {},
   "outputs": [],
   "source": []
  },
  {
   "cell_type": "code",
   "execution_count": 376,
   "metadata": {},
   "outputs": [
    {
     "data": {
      "text/plain": [
       "<matplotlib.axes._subplots.AxesSubplot at 0x11e39db38>"
      ]
     },
     "execution_count": 376,
     "metadata": {},
     "output_type": "execute_result"
    },
    {
     "data": {
      "image/png": "[encoded data removed]",
      "text/plain": [
       "<matplotlib.figure.Figure at 0x116c8be10>"
      ]
     },
     "metadata": {},
     "output_type": "display_data"
    }
   ],
   "source": [
    "def apply_func_factory(serie):\n",
    "    center = len(serie)/2\n",
    "\n",
    "    def apply_func(x):\n",
    "        idx = x.name\n",
    "        return 1 - (abs(center - idx) ** 2) / center**2\n",
    "    \n",
    "    return apply_func\n",
    "    \n",
    "\n",
    "apply_func = apply_func_factory(means)\n",
    "\n",
    "factors = means.reset_index().apply(apply_func, axis=1)\n",
    "\n",
    "means.plot(label=\"Pixels means\", legend=True)\n",
    "factors.plot(label=\"Amplificator factors\", legend=True)\n",
    "final = means * factors\n",
    "final.plot(label=\"Amplified pixels means\", legend=True)"
   ]
  },
  {
   "cell_type": "code",
   "execution_count": 377,
   "metadata": {},
   "outputs": [
    {
     "data": {
      "text/plain": [
       "<matplotlib.axes._subplots.AxesSubplot at 0x116c92dd8>"
      ]
     },
     "execution_count": 377,
     "metadata": {},
     "output_type": "execute_result"
    },
    {
     "data": {
      "image/png": "[encoded data removed]",
      "text/plain": [
       "<matplotlib.figure.Figure at 0x116cbf390>"
      ]
     },
     "metadata": {},
     "output_type": "display_data"
    }
   ],
   "source": [
    "normalized = (final * 10).round()\n",
    "normalized.plot(title=\"Normalized pixels on scale of 10\")"
   ]
  },
  {
   "cell_type": "code",
   "execution_count": 378,
   "metadata": {},
   "outputs": [],
   "source": [
    "grouped = normalized.reset_index().groupby(normalized, as_index=False)\n",
    "\n",
    "# luminosity distinct sorted values (10 at max = whitest)\n",
    "lum_val = grouped[0].last().round().values.flatten()\n",
    "lum_val.sort()\n",
    "whitest = lum_val[-1]\n",
    "\n",
    "# whitests columns (maximum of luminosity)\n",
    "white_cols = grouped.get_group(whitest)['index']\n",
    "    \n",
    "if len(white_cols) < 0.02 * DOWNSCALED_WIDTH:\n",
    "    white_cols = white_cols.append(grouped.get_group(lum_val[-2])['index'])\n"
   ]
  },
  {
   "cell_type": "code",
   "execution_count": 329,
   "metadata": {},
   "outputs": [
    {
     "name": "stdout",
     "output_type": "stream",
     "text": [
      "Darkest inside white band: 9.0\n"
     ]
    }
   ],
   "source": [
    "first_idx, last_idx = white_cols.min(), white_cols.max()\n",
    "margin = max(1, round(0.005 * DOWNSCALED_WIDTH))\n",
    "white_band = normalized[first_idx-margin:last_idx+margin]\n",
    "\n",
    "\n",
    "# we have a dark local minimum in the white band\n",
    "band_min = white_band.min()\n",
    "print(\"Darkest inside white band: %s\" % band_min)"
   ]
  },
  {
   "cell_type": "code",
   "execution_count": 330,
   "metadata": {},
   "outputs": [
    {
     "name": "stdout",
     "output_type": "stream",
     "text": [
      "For a width of 400, split at pixel 144.000000 (median of maximum)\n"
     ]
    }
   ],
   "source": [
    "if band_min <= whitest - 2:\n",
    "    median_columns = normalized[first_idx-margin:last_idx+margin]\n",
    "    dark_inside_median = median_columns[median_columns == band_min].reset_index()['index']\n",
    "    print(\"Dark inside median %s\" % dark_inside_median)\n",
    "    binding_point = dark_inside_median.median()\n",
    "    print(\"For a width of %d, split at pixel %f (median in dark range around middle)\" % (DOWNSCALED_WIDTH, binding_point))\n",
    "else:\n",
    "    # binding as median of indexes\n",
    "    binding_point = indexes.median()\n",
    "    print(\"For a width of %d, split at pixel %f (median of maximum)\" % (DOWNSCALED_WIDTH, binding_point))"
   ]
  },
  {
   "cell_type": "code",
   "execution_count": 321,
   "metadata": {},
   "outputs": [
    {
     "name": "stdout",
     "output_type": "stream",
     "text": [
      "Split image must occurs at X=833\n"
     ]
    }
   ],
   "source": [
    "o_width, _ = original.size\n",
    "cut_x = round(o_width * (binding_point / DOWNSCALED_WIDTH))\n",
    "print(\"Split image must occurs at X=%d\" % cut_x)"
   ]
  },
  {
   "cell_type": "code",
   "execution_count": 314,
   "metadata": {},
   "outputs": [],
   "source": [
    "regex = re.compile(r\"\\D+(?P<left>[0-9]+)(?:[-_](?P<right>[0-9]+))?\\.jpg$\")\n",
    "\n",
    "def splitted_pages_numbers(filename):\n",
    "    match = regex.search(filename)\n",
    "\n",
    "    # page names as numbers\n",
    "    # left = int(match.group('left'))\n",
    "    # right = int(match.group('right') or left + 1)\n",
    "\n",
    "    # page names as suffixed from original\n",
    "    left = match.group('left') + \"-a\"\n",
    "    right = match.group('right') or (match.group('left') + \"-b\")\n",
    "\n",
    "    return { \"left\": left, \"right\": right }\n"
   ]
  },
  {
   "cell_type": "code",
   "execution_count": 315,
   "metadata": {},
   "outputs": [
    {
     "name": "stdout",
     "output_type": "stream",
     "text": [
      "Dimensions left=(0, 0, 832, 2480)\n",
      "Dimensions right=(833, 0, 3472, 2480)\n",
      "Saved 2 images: {'left': '../output/page-0027-a.jpg', 'right': '../output/page-0027-b.jpg'}\n"
     ]
    }
   ],
   "source": [
    "def output_path(page_n):\n",
    "    return \"../output/page-%s.jpg\" % page_n\n",
    "\n",
    "def split_pages_paths(original_filename):\n",
    "    pages_numbers = splitted_pages_numbers(original_filename)\n",
    "    \n",
    "    return {\n",
    "        \"left\": output_path(pages_numbers[\"left\"]),\n",
    "        \"right\": output_path(pages_numbers[\"right\"]),\n",
    "    }\n",
    "    \n",
    "    \n",
    "def horizontal_split(img, cut_x):\n",
    "    dimLeft = (0, 0, cut_x - 1, img.height)\n",
    "    print(\"Dimensions left=%s\" % str(dimLeft))\n",
    "    imgLeft = img.crop(dimLeft)\n",
    "    \n",
    "    dimRight = (cut_x, 0, img.width, img.height)\n",
    "    print(\"Dimensions right=%s\" % str(dimRight))\n",
    "    imgRight = img.crop(dimRight)\n",
    "    \n",
    "\n",
    "    file_paths = split_pages_paths(img.filename)\n",
    "    \n",
    "    imgLeft.save(file_paths['left'])\n",
    "    imgRight.save(file_paths['right'])\n",
    "    \n",
    "    print(\"Saved 2 images: %s\" % str(file_paths))\n",
    "\n",
    "horizontal_split(original, cut_x)"
   ]
  },
  {
   "cell_type": "code",
   "execution_count": null,
   "metadata": {},
   "outputs": [],
   "source": []
  },
  {
   "cell_type": "code",
   "execution_count": null,
   "metadata": {},
   "outputs": [],
   "source": []
  },
  {
   "cell_type": "code",
   "execution_count": null,
   "metadata": {},
   "outputs": [],
   "source": []
  }
 ],
 "metadata": {
  "kernelspec": {
   "display_name": "Python 3",
   "language": "python",
   "name": "python3"
  },
  "language_info": {
   "codemirror_mode": {
    "name": "ipython",
    "version": 3
   },
   "file_extension": ".py",
   "mimetype": "text/x-python",
   "name": "python",
   "nbconvert_exporter": "python",
   "pygments_lexer": "ipython3",
   "version": "3.5.2"
  }
 },
 "nbformat": 4,
 "nbformat_minor": 2
}
