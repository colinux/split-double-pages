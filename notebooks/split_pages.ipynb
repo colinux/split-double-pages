{
 "cells": [
  {
   "cell_type": "code",
   "execution_count": 316,
   "metadata": {},
   "outputs": [],
   "source": [
    "import pandas as pd\n",
    "import numpy as np\n",
    "import PythonMagick\n",
    "from PIL import Image\n",
    "import re\n",
    "\n",
    "%matplotlib inline\n",
    "\n"
   ]
  },
  {
   "cell_type": "code",
   "execution_count": null,
   "metadata": {},
   "outputs": [],
   "source": []
  },
  {
   "cell_type": "code",
   "execution_count": 684,
   "metadata": {},
   "outputs": [],
   "source": [
    "DOWNSCALED_WIDTH=400\n",
    "\n",
    "def downscale(img):\n",
    "    o_width, o_height = img.size\n",
    "    height = round((DOWNSCALED_WIDTH/o_width) * o_height)\n",
    "    \n",
    "    ds_img = img.convert('L').resize((DOWNSCALED_WIDTH, height), resample=Image.BILINEAR)\n",
    "    \n",
    "    return ds_img\n",
    "\n",
    "def pixels_df(img):\n",
    "    pixels = list(img.getdata())\n",
    "    width, height = img.size\n",
    "    pixels = [pixels[i * width:(i + 1) * width] for i in range(height)]\n",
    "\n",
    "    return pd.DataFrame(pixels)\n"
   ]
  },
  {
   "cell_type": "code",
   "execution_count": 685,
   "metadata": {},
   "outputs": [
    {
     "name": "stdout",
     "output_type": "stream",
     "text": [
      "Shape of matrix is 283x400\n"
     ]
    },
    {
     "data": {
      "text/html": [
       "<div>\n",
       "<style scoped>\n",
       "    .dataframe tbody tr th:only-of-type {\n",
       "        vertical-align: middle;\n",
       "    }\n",
       "\n",
       "    .dataframe tbody tr th {\n",
       "        vertical-align: top;\n",
       "    }\n",
       "\n",
       "    .dataframe thead th {\n",
       "        text-align: right;\n",
       "    }\n",
       "</style>\n",
       "<table border=\"1\" class=\"dataframe\">\n",
       "  <thead>\n",
       "    <tr style=\"text-align: right;\">\n",
       "      <th></th>\n",
       "      <th>0</th>\n",
       "      <th>1</th>\n",
       "      <th>2</th>\n",
       "      <th>3</th>\n",
       "      <th>4</th>\n",
       "      <th>5</th>\n",
       "      <th>6</th>\n",
       "      <th>7</th>\n",
       "      <th>8</th>\n",
       "      <th>9</th>\n",
       "      <th>...</th>\n",
       "      <th>390</th>\n",
       "      <th>391</th>\n",
       "      <th>392</th>\n",
       "      <th>393</th>\n",
       "      <th>394</th>\n",
       "      <th>395</th>\n",
       "      <th>396</th>\n",
       "      <th>397</th>\n",
       "      <th>398</th>\n",
       "      <th>399</th>\n",
       "    </tr>\n",
       "  </thead>\n",
       "  <tbody>\n",
       "    <tr>\n",
       "      <th>count</th>\n",
       "      <td>283.000000</td>\n",
       "      <td>283.000000</td>\n",
       "      <td>283.000000</td>\n",
       "      <td>283.000000</td>\n",
       "      <td>283.000000</td>\n",
       "      <td>283.000000</td>\n",
       "      <td>283.000000</td>\n",
       "      <td>283.000000</td>\n",
       "      <td>283.000000</td>\n",
       "      <td>283.000000</td>\n",
       "      <td>...</td>\n",
       "      <td>283.000000</td>\n",
       "      <td>283.000000</td>\n",
       "      <td>283.000000</td>\n",
       "      <td>283.000000</td>\n",
       "      <td>283.000000</td>\n",
       "      <td>283.000000</td>\n",
       "      <td>283.000000</td>\n",
       "      <td>283.0</td>\n",
       "      <td>283.000000</td>\n",
       "      <td>283.0</td>\n",
       "    </tr>\n",
       "    <tr>\n",
       "      <th>mean</th>\n",
       "      <td>0.999889</td>\n",
       "      <td>0.998326</td>\n",
       "      <td>0.998013</td>\n",
       "      <td>0.998178</td>\n",
       "      <td>0.998782</td>\n",
       "      <td>0.998920</td>\n",
       "      <td>0.998354</td>\n",
       "      <td>0.998419</td>\n",
       "      <td>0.997365</td>\n",
       "      <td>0.997395</td>\n",
       "      <td>...</td>\n",
       "      <td>0.594158</td>\n",
       "      <td>0.585775</td>\n",
       "      <td>0.591433</td>\n",
       "      <td>0.590163</td>\n",
       "      <td>0.590144</td>\n",
       "      <td>0.779261</td>\n",
       "      <td>0.997457</td>\n",
       "      <td>1.0</td>\n",
       "      <td>0.999972</td>\n",
       "      <td>1.0</td>\n",
       "    </tr>\n",
       "    <tr>\n",
       "      <th>std</th>\n",
       "      <td>0.001135</td>\n",
       "      <td>0.012598</td>\n",
       "      <td>0.015093</td>\n",
       "      <td>0.014956</td>\n",
       "      <td>0.010535</td>\n",
       "      <td>0.010277</td>\n",
       "      <td>0.012885</td>\n",
       "      <td>0.014028</td>\n",
       "      <td>0.023500</td>\n",
       "      <td>0.027765</td>\n",
       "      <td>...</td>\n",
       "      <td>0.416840</td>\n",
       "      <td>0.418979</td>\n",
       "      <td>0.425908</td>\n",
       "      <td>0.427280</td>\n",
       "      <td>0.433142</td>\n",
       "      <td>0.248334</td>\n",
       "      <td>0.004468</td>\n",
       "      <td>0.0</td>\n",
       "      <td>0.000465</td>\n",
       "      <td>0.0</td>\n",
       "    </tr>\n",
       "    <tr>\n",
       "      <th>min</th>\n",
       "      <td>0.984375</td>\n",
       "      <td>0.813533</td>\n",
       "      <td>0.785483</td>\n",
       "      <td>0.785483</td>\n",
       "      <td>0.878447</td>\n",
       "      <td>0.849289</td>\n",
       "      <td>0.863806</td>\n",
       "      <td>0.792449</td>\n",
       "      <td>0.658962</td>\n",
       "      <td>0.555171</td>\n",
       "      <td>...</td>\n",
       "      <td>0.000123</td>\n",
       "      <td>0.000123</td>\n",
       "      <td>0.000123</td>\n",
       "      <td>0.000123</td>\n",
       "      <td>0.000138</td>\n",
       "      <td>0.305744</td>\n",
       "      <td>0.984375</td>\n",
       "      <td>1.0</td>\n",
       "      <td>0.992172</td>\n",
       "      <td>1.0</td>\n",
       "    </tr>\n",
       "    <tr>\n",
       "      <th>25%</th>\n",
       "      <td>1.000000</td>\n",
       "      <td>1.000000</td>\n",
       "      <td>1.000000</td>\n",
       "      <td>1.000000</td>\n",
       "      <td>1.000000</td>\n",
       "      <td>1.000000</td>\n",
       "      <td>1.000000</td>\n",
       "      <td>1.000000</td>\n",
       "      <td>1.000000</td>\n",
       "      <td>1.000000</td>\n",
       "      <td>...</td>\n",
       "      <td>0.000123</td>\n",
       "      <td>0.000131</td>\n",
       "      <td>0.000138</td>\n",
       "      <td>0.000138</td>\n",
       "      <td>0.000138</td>\n",
       "      <td>0.515017</td>\n",
       "      <td>0.992172</td>\n",
       "      <td>1.0</td>\n",
       "      <td>1.000000</td>\n",
       "      <td>1.0</td>\n",
       "    </tr>\n",
       "    <tr>\n",
       "      <th>50%</th>\n",
       "      <td>1.000000</td>\n",
       "      <td>1.000000</td>\n",
       "      <td>1.000000</td>\n",
       "      <td>1.000000</td>\n",
       "      <td>1.000000</td>\n",
       "      <td>1.000000</td>\n",
       "      <td>1.000000</td>\n",
       "      <td>1.000000</td>\n",
       "      <td>1.000000</td>\n",
       "      <td>1.000000</td>\n",
       "      <td>...</td>\n",
       "      <td>0.710880</td>\n",
       "      <td>0.691180</td>\n",
       "      <td>0.730857</td>\n",
       "      <td>0.744329</td>\n",
       "      <td>0.771642</td>\n",
       "      <td>0.885813</td>\n",
       "      <td>1.000000</td>\n",
       "      <td>1.0</td>\n",
       "      <td>1.000000</td>\n",
       "      <td>1.0</td>\n",
       "    </tr>\n",
       "    <tr>\n",
       "      <th>75%</th>\n",
       "      <td>1.000000</td>\n",
       "      <td>1.000000</td>\n",
       "      <td>1.000000</td>\n",
       "      <td>1.000000</td>\n",
       "      <td>1.000000</td>\n",
       "      <td>1.000000</td>\n",
       "      <td>1.000000</td>\n",
       "      <td>1.000000</td>\n",
       "      <td>1.000000</td>\n",
       "      <td>1.000000</td>\n",
       "      <td>...</td>\n",
       "      <td>0.968874</td>\n",
       "      <td>0.968874</td>\n",
       "      <td>0.976609</td>\n",
       "      <td>0.980492</td>\n",
       "      <td>0.984375</td>\n",
       "      <td>1.000000</td>\n",
       "      <td>1.000000</td>\n",
       "      <td>1.0</td>\n",
       "      <td>1.000000</td>\n",
       "      <td>1.0</td>\n",
       "    </tr>\n",
       "    <tr>\n",
       "      <th>max</th>\n",
       "      <td>1.000000</td>\n",
       "      <td>1.000000</td>\n",
       "      <td>1.000000</td>\n",
       "      <td>1.000000</td>\n",
       "      <td>1.000000</td>\n",
       "      <td>1.000000</td>\n",
       "      <td>1.000000</td>\n",
       "      <td>1.000000</td>\n",
       "      <td>1.000000</td>\n",
       "      <td>1.000000</td>\n",
       "      <td>...</td>\n",
       "      <td>1.000000</td>\n",
       "      <td>1.000000</td>\n",
       "      <td>1.000000</td>\n",
       "      <td>1.000000</td>\n",
       "      <td>1.000000</td>\n",
       "      <td>1.000000</td>\n",
       "      <td>1.000000</td>\n",
       "      <td>1.0</td>\n",
       "      <td>1.000000</td>\n",
       "      <td>1.0</td>\n",
       "    </tr>\n",
       "  </tbody>\n",
       "</table>\n",
       "<p>8 rows × 400 columns</p>\n",
       "</div>"
      ],
      "text/plain": [
       "              0           1           2           3           4           5    \\\n",
       "count  283.000000  283.000000  283.000000  283.000000  283.000000  283.000000   \n",
       "mean     0.999889    0.998326    0.998013    0.998178    0.998782    0.998920   \n",
       "std      0.001135    0.012598    0.015093    0.014956    0.010535    0.010277   \n",
       "min      0.984375    0.813533    0.785483    0.785483    0.878447    0.849289   \n",
       "25%      1.000000    1.000000    1.000000    1.000000    1.000000    1.000000   \n",
       "50%      1.000000    1.000000    1.000000    1.000000    1.000000    1.000000   \n",
       "75%      1.000000    1.000000    1.000000    1.000000    1.000000    1.000000   \n",
       "max      1.000000    1.000000    1.000000    1.000000    1.000000    1.000000   \n",
       "\n",
       "              6           7           8           9    ...           390  \\\n",
       "count  283.000000  283.000000  283.000000  283.000000  ...    283.000000   \n",
       "mean     0.998354    0.998419    0.997365    0.997395  ...      0.594158   \n",
       "std      0.012885    0.014028    0.023500    0.027765  ...      0.416840   \n",
       "min      0.863806    0.792449    0.658962    0.555171  ...      0.000123   \n",
       "25%      1.000000    1.000000    1.000000    1.000000  ...      0.000123   \n",
       "50%      1.000000    1.000000    1.000000    1.000000  ...      0.710880   \n",
       "75%      1.000000    1.000000    1.000000    1.000000  ...      0.968874   \n",
       "max      1.000000    1.000000    1.000000    1.000000  ...      1.000000   \n",
       "\n",
       "              391         392         393         394         395         396  \\\n",
       "count  283.000000  283.000000  283.000000  283.000000  283.000000  283.000000   \n",
       "mean     0.585775    0.591433    0.590163    0.590144    0.779261    0.997457   \n",
       "std      0.418979    0.425908    0.427280    0.433142    0.248334    0.004468   \n",
       "min      0.000123    0.000123    0.000123    0.000138    0.305744    0.984375   \n",
       "25%      0.000131    0.000138    0.000138    0.000138    0.515017    0.992172   \n",
       "50%      0.691180    0.730857    0.744329    0.771642    0.885813    1.000000   \n",
       "75%      0.968874    0.976609    0.980492    0.984375    1.000000    1.000000   \n",
       "max      1.000000    1.000000    1.000000    1.000000    1.000000    1.000000   \n",
       "\n",
       "         397         398    399  \n",
       "count  283.0  283.000000  283.0  \n",
       "mean     1.0    0.999972    1.0  \n",
       "std      0.0    0.000465    0.0  \n",
       "min      1.0    0.992172    1.0  \n",
       "25%      1.0    1.000000    1.0  \n",
       "50%      1.0    1.000000    1.0  \n",
       "75%      1.0    1.000000    1.0  \n",
       "max      1.0    1.000000    1.0  \n",
       "\n",
       "[8 rows x 400 columns]"
      ]
     },
     "execution_count": 685,
     "metadata": {},
     "output_type": "execute_result"
    }
   ],
   "source": [
    "original = Image.open(\"../input/test-8.jpg\")\n",
    "\n",
    "img = downscale(original)\n",
    "df = pixels_df(img)\n",
    "\n",
    "print(\"Shape of matrix is %dx%d\" % (df.shape))\n",
    "\n",
    "\n",
    "# 0 = white, 1 = black pixels\n",
    "contrasted = df.applymap(lambda x: int(np.sqrt(x) if x < 127 else x**2) / (255**2))\n",
    "contrasted.describe()"
   ]
  },
  {
   "cell_type": "code",
   "execution_count": 686,
   "metadata": {},
   "outputs": [],
   "source": [
    "def rescale(serie):\n",
    "    #return serie * 1/serie.max()\n",
    "    serie -= serie.min()\n",
    "    return serie / serie.max()\n",
    "\n",
    "def middle(df, replacement):\n",
    "    df2 = df.copy()\n",
    "    \n",
    "    if df.__class__ == pd.DataFrame:\n",
    "        third = int(len(df.columns) / 3)\n",
    "\n",
    "        df2.loc[:, :third] = replacement\n",
    "        df2.loc[:, 2*third:] = replacement\n",
    "    else:\n",
    "        third = int(len(df) / 3)\n",
    "        df2.loc[:third] = replacement\n",
    "        df2.loc[2*third:] = replacement\n",
    "\n",
    "    return df2"
   ]
  },
  {
   "cell_type": "code",
   "execution_count": 687,
   "metadata": {},
   "outputs": [
    {
     "data": {
      "text/plain": [
       "<matplotlib.axes._subplots.AxesSubplot at 0x11f90ab00>"
      ]
     },
     "execution_count": 687,
     "metadata": {},
     "output_type": "execute_result"
    },
    {
     "data": {
      "image/png": "[encoded data removed]",
      "text/plain": [
       "<matplotlib.figure.Figure at 0x11f910a20>"
      ]
     },
     "metadata": {},
     "output_type": "display_data"
    }
   ],
   "source": [
    "means = middle(contrasted, np.nan).mean()\n",
    "means.plot(title=\"Means value of pixels by column on downscaled image (0=black, 1=white)\", label=\"Means\", legend=True)\n",
    "\n",
    "std = contrasted.std()\n",
    "std.plot(label=\"Std\", legend=True)\n"
   ]
  },
  {
   "cell_type": "code",
   "execution_count": 688,
   "metadata": {},
   "outputs": [],
   "source": [
    "img.show()"
   ]
  },
  {
   "cell_type": "code",
   "execution_count": null,
   "metadata": {},
   "outputs": [],
   "source": []
  },
  {
   "cell_type": "code",
   "execution_count": null,
   "metadata": {},
   "outputs": [],
   "source": []
  },
  {
   "cell_type": "code",
   "execution_count": 672,
   "metadata": {},
   "outputs": [
    {
     "data": {
      "text/plain": [
       "<matplotlib.axes._subplots.AxesSubplot at 0x11e044780>"
      ]
     },
     "execution_count": 672,
     "metadata": {},
     "output_type": "execute_result"
    },
    {
     "data": {
      "image/png": "[encoded data removed]",
      "text/plain": [
       "<matplotlib.figure.Figure at 0x11e06e748>"
      ]
     },
     "metadata": {},
     "output_type": "display_data"
    }
   ],
   "source": [
    "def apply_func_factory(serie):\n",
    "    center = len(serie)/2\n",
    "\n",
    "    def apply_func(x):\n",
    "        idx = x.name\n",
    "        return 1 - (abs(center - idx) ** 1.618) / center**1.618\n",
    "    \n",
    "    return apply_func\n",
    "    \n",
    "\n",
    "apply_func = apply_func_factory(means)\n",
    "\n",
    "center_amplifier = means.reset_index().apply(apply_func, axis=1)\n",
    "\n",
    "low_std_amplifier = rescale(means / (1 - means.std()))\n",
    "\n",
    "means.plot(label=\"Pixels means\", legend=True)\n",
    "center_amplifier.plot(label=\"Center amplifier function\", legend=True)\n",
    "low_std_amplifier.plot(label=\"Low std dev amplifier function\", legend=True)\n",
    "\n",
    "\n",
    "signal = rescale(rescale(means) * center_amplifier * low_std_amplifier)\n",
    "\n",
    "signal.plot(label=\"Signal\", legend=True)"
   ]
  },
  {
   "cell_type": "code",
   "execution_count": null,
   "metadata": {},
   "outputs": [],
   "source": [
    "\n"
   ]
  },
  {
   "cell_type": "code",
   "execution_count": 673,
   "metadata": {},
   "outputs": [
    {
     "data": {
      "text/plain": [
       "<matplotlib.axes._subplots.AxesSubplot at 0x11e09b320>"
      ]
     },
     "execution_count": 673,
     "metadata": {},
     "output_type": "execute_result"
    },
    {
     "data": {
      "image/png": "[encoded data removed]",
      "text/plain": [
       "<matplotlib.figure.Figure at 0x11c2db588>"
      ]
     },
     "metadata": {},
     "output_type": "display_data"
    }
   ],
   "source": [
    "normalized = (signal * 10).round()\n",
    "normalized.plot(title=\"Normalized pixels on scale of 10\")"
   ]
  },
  {
   "cell_type": "code",
   "execution_count": 674,
   "metadata": {},
   "outputs": [],
   "source": [
    "grouped = pd.DataFrame([normalized]).T.groupby(normalized, as_index=False)\n",
    "\n",
    "# luminosity distinct sorted values (10 at max = whitest)\n",
    "lum_val = grouped[0].last().round().values.flatten()\n",
    "lum_val.sort()\n",
    "whitest = lum_val[-1]\n",
    "darkest = lum_val[0]\n",
    "\n",
    "# whitests columns (maximum of luminosity)\n",
    "white_cols = pd.Series(grouped.get_group(whitest).index)\n",
    "dark_cols = pd.Series(grouped.get_group(darkest).index)\n",
    "\n",
    "if len(white_cols) < 0.01 * DOWNSCALED_WIDTH and lum_val[-2] >= whitest - 1:\n",
    "    next_group = pd.Series(grouped.get_group(lum_val[-2]).index)\n",
    "    if len(next_group) < 0.02 * DOWNSCALED_WIDTH:\n",
    "        white_cols = white_cols.append(next_group).sort_values()\n"
   ]
  },
  {
   "cell_type": "code",
   "execution_count": 675,
   "metadata": {},
   "outputs": [
    {
     "name": "stdout",
     "output_type": "stream",
     "text": [
      "Use margin because original band min=10, max=10\n",
      "White band between has index range 190-203\n",
      "Darkest inside white band: 2.0\n"
     ]
    }
   ],
   "source": [
    "first_idx, last_idx = white_cols.min(), white_cols.max()\n",
    "\n",
    "white_band = normalized.loc[first_idx:last_idx]\n",
    "\n",
    "if white_band.min() > white_band.max() - 2:\n",
    "    print(\"Use margin because original band min=%i, max=%i\" % (white_band.min(), white_band.max()))\n",
    "    margin = max(1, round(0.01 * DOWNSCALED_WIDTH))\n",
    "    white_band = normalized.loc[first_idx-margin:last_idx+margin]\n",
    "\n",
    "print(\"White band between has index range %d-%d\" % (white_band.index[0], white_band.index[-1]))\n",
    "# we have a dark local minimum in the white band\n",
    "band_min = white_band.min()\n",
    "print(\"Darkest inside white band: %s\" % band_min)"
   ]
  },
  {
   "cell_type": "code",
   "execution_count": 676,
   "metadata": {},
   "outputs": [
    {
     "name": "stdout",
     "output_type": "stream",
     "text": [
      "binding_point=203.000000 (local dark inside white band)\n"
     ]
    }
   ],
   "source": [
    "if whitest == 10 and (last_idx-first_idx+1) == len(white_cols) and len(white_cols) >= 0.02 * DOWNSCALED_WIDTH:\n",
    "    binding_point = white_cols.median()\n",
    "    print(\"binding_point=%f (strong white band)\" % binding_point)\n",
    "elif band_min <= whitest - 5:\n",
    "    dark_inside_median = white_band[white_band == band_min].reset_index()['index']\n",
    "        \n",
    "    binding_point = dark_inside_median.median()\n",
    "    print(\"binding_point=%f (local dark inside white band)\" % binding_point)\n",
    "elif darkest == 0 and len(dark_cols) <= 0.01 * DOWNSCALED_WIDTH:\n",
    "    binding_point = dark_cols.median()\n",
    "    print(\"binding_point=%f (dark peak)\" % binding_point)\n",
    "else:\n",
    "    # binding as median of indexes\n",
    "    binding_point = white_cols.median()\n",
    "    print(\"binding_point=%f (brightness max (default))\" % binding_point)\n"
   ]
  },
  {
   "cell_type": "code",
   "execution_count": 677,
   "metadata": {},
   "outputs": [
    {
     "name": "stdout",
     "output_type": "stream",
     "text": [
      "Split image must occurs at X=1199\n"
     ]
    }
   ],
   "source": [
    "o_width, _ = original.size\n",
    "cut_x = round(o_width * (binding_point / DOWNSCALED_WIDTH))\n",
    "print(\"Split image must occurs at X=%d\" % cut_x)"
   ]
  },
  {
   "cell_type": "code",
   "execution_count": null,
   "metadata": {},
   "outputs": [],
   "source": [
    "\n"
   ]
  },
  {
   "cell_type": "code",
   "execution_count": 678,
   "metadata": {},
   "outputs": [],
   "source": [
    "regex = re.compile(r\"\\D+(?P<left>[0-9]+)(?:[-_](?P<right>[0-9]+))?\\.jpg$\")\n",
    "\n",
    "def splitted_pages_numbers(filename):\n",
    "    match = regex.search(filename)\n",
    "\n",
    "    # page names as numbers\n",
    "    # left = int(match.group('left'))\n",
    "    # right = int(match.group('right') or left + 1)\n",
    "\n",
    "    # page names as suffixed from original\n",
    "    left = match.group('left') + \"-a\"\n",
    "    right = match.group('right') or (match.group('left') + \"-b\")\n",
    "\n",
    "    return { \"left\": left, \"right\": right }\n"
   ]
  },
  {
   "cell_type": "code",
   "execution_count": 679,
   "metadata": {},
   "outputs": [
    {
     "name": "stdout",
     "output_type": "stream",
     "text": [
      "Dimensions left=(0, 0, 1198, 2185)\n",
      "Dimensions right=(1199, 0, 2362, 2185)\n",
      "Saved 2 images: {'left': '../output/page-001-a.jpg', 'right': '../output/page-001-b.jpg'}\n"
     ]
    }
   ],
   "source": [
    "def output_path(page_n):\n",
    "    return \"../output/page-%s.jpg\" % page_n\n",
    "\n",
    "def split_pages_paths(original_filename):\n",
    "    pages_numbers = splitted_pages_numbers(original_filename)\n",
    "    \n",
    "    return {\n",
    "        \"left\": output_path(pages_numbers[\"left\"]),\n",
    "        \"right\": output_path(pages_numbers[\"right\"]),\n",
    "    }\n",
    "    \n",
    "    \n",
    "def horizontal_split(img, cut_x):\n",
    "    dimLeft = (0, 0, cut_x - 1, img.height)\n",
    "    print(\"Dimensions left=%s\" % str(dimLeft))\n",
    "    imgLeft = img.crop(dimLeft)\n",
    "    \n",
    "    dimRight = (cut_x, 0, img.width, img.height)\n",
    "    print(\"Dimensions right=%s\" % str(dimRight))\n",
    "    imgRight = img.crop(dimRight)\n",
    "    \n",
    "\n",
    "    file_paths = split_pages_paths(img.filename)\n",
    "    \n",
    "    imgLeft.save(file_paths['left'])\n",
    "    imgRight.save(file_paths['right'])\n",
    "    \n",
    "    print(\"Saved 2 images: %s\" % str(file_paths))\n",
    "\n",
    "horizontal_split(original, cut_x)"
   ]
  },
  {
   "cell_type": "code",
   "execution_count": null,
   "metadata": {},
   "outputs": [],
   "source": []
  },
  {
   "cell_type": "code",
   "execution_count": null,
   "metadata": {},
   "outputs": [],
   "source": []
  },
  {
   "cell_type": "code",
   "execution_count": null,
   "metadata": {},
   "outputs": [],
   "source": []
  },
  {
   "cell_type": "code",
   "execution_count": null,
   "metadata": {},
   "outputs": [],
   "source": []
  },
  {
   "cell_type": "code",
   "execution_count": null,
   "metadata": {},
   "outputs": [],
   "source": []
  },
  {
   "cell_type": "code",
   "execution_count": null,
   "metadata": {},
   "outputs": [],
   "source": []
  },
  {
   "cell_type": "code",
   "execution_count": null,
   "metadata": {},
   "outputs": [],
   "source": []
  },
  {
   "cell_type": "code",
   "execution_count": null,
   "metadata": {},
   "outputs": [],
   "source": []
  },
  {
   "cell_type": "code",
   "execution_count": null,
   "metadata": {},
   "outputs": [],
   "source": []
  },
  {
   "cell_type": "code",
   "execution_count": null,
   "metadata": {},
   "outputs": [],
   "source": []
  }
 ],
 "metadata": {
  "kernelspec": {
   "display_name": "Python 3",
   "language": "python",
   "name": "python3"
  },
  "language_info": {
   "codemirror_mode": {
    "name": "ipython",
    "version": 3
   },
   "file_extension": ".py",
   "mimetype": "text/x-python",
   "name": "python",
   "nbconvert_exporter": "python",
   "pygments_lexer": "ipython3",
   "version": "3.5.2"
  }
 },
 "nbformat": 4,
 "nbformat_minor": 2
}
